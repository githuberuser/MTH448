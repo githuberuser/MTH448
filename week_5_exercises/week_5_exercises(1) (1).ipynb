{
  "cells": [
    {
      "cell_type": "markdown",
      "id": "e3e2cbe9",
      "metadata": {
        "id": "e3e2cbe9"
      },
      "source": [
        "# Week 5 Exercises\n"
      ]
    },
    {
      "cell_type": "code",
      "execution_count": 1,
      "id": "768f24d9",
      "metadata": {
        "colab": {
          "base_uri": "https://localhost:8080/",
          "height": 224
        },
        "id": "768f24d9",
        "outputId": "92646ed8-707a-49e1-8e8a-3906ceb8260c"
      },
      "outputs": [
        {
          "name": "stdout",
          "output_type": "stream",
          "text": [
            "%pylab is deprecated, use %matplotlib inline and import the required libraries.\n",
            "Populating the interactive namespace from numpy and matplotlib\n"
          ]
        },
        {
          "data": {
            "text/html": [
              "<div>\n",
              "<style scoped>\n",
              "    .dataframe tbody tr th:only-of-type {\n",
              "        vertical-align: middle;\n",
              "    }\n",
              "\n",
              "    .dataframe tbody tr th {\n",
              "        vertical-align: top;\n",
              "    }\n",
              "\n",
              "    .dataframe thead th {\n",
              "        text-align: right;\n",
              "    }\n",
              "</style>\n",
              "<table border=\"1\" class=\"dataframe\">\n",
              "  <thead>\n",
              "    <tr style=\"text-align: right;\">\n",
              "      <th></th>\n",
              "      <th>total_bill</th>\n",
              "      <th>tip</th>\n",
              "      <th>sex</th>\n",
              "      <th>smoker</th>\n",
              "      <th>day</th>\n",
              "      <th>time</th>\n",
              "      <th>size</th>\n",
              "    </tr>\n",
              "  </thead>\n",
              "  <tbody>\n",
              "    <tr>\n",
              "      <th>0</th>\n",
              "      <td>16.99</td>\n",
              "      <td>1.01</td>\n",
              "      <td>Female</td>\n",
              "      <td>No</td>\n",
              "      <td>Sun</td>\n",
              "      <td>Dinner</td>\n",
              "      <td>2</td>\n",
              "    </tr>\n",
              "    <tr>\n",
              "      <th>1</th>\n",
              "      <td>10.34</td>\n",
              "      <td>1.66</td>\n",
              "      <td>Male</td>\n",
              "      <td>No</td>\n",
              "      <td>Sun</td>\n",
              "      <td>Dinner</td>\n",
              "      <td>3</td>\n",
              "    </tr>\n",
              "    <tr>\n",
              "      <th>2</th>\n",
              "      <td>21.01</td>\n",
              "      <td>3.50</td>\n",
              "      <td>Male</td>\n",
              "      <td>No</td>\n",
              "      <td>Sun</td>\n",
              "      <td>Dinner</td>\n",
              "      <td>3</td>\n",
              "    </tr>\n",
              "    <tr>\n",
              "      <th>3</th>\n",
              "      <td>23.68</td>\n",
              "      <td>3.31</td>\n",
              "      <td>Male</td>\n",
              "      <td>No</td>\n",
              "      <td>Sun</td>\n",
              "      <td>Dinner</td>\n",
              "      <td>2</td>\n",
              "    </tr>\n",
              "    <tr>\n",
              "      <th>4</th>\n",
              "      <td>24.59</td>\n",
              "      <td>3.61</td>\n",
              "      <td>Female</td>\n",
              "      <td>No</td>\n",
              "      <td>Sun</td>\n",
              "      <td>Dinner</td>\n",
              "      <td>4</td>\n",
              "    </tr>\n",
              "  </tbody>\n",
              "</table>\n",
              "</div>"
            ],
            "text/plain": [
              "   total_bill   tip     sex smoker  day    time  size\n",
              "0       16.99  1.01  Female     No  Sun  Dinner     2\n",
              "1       10.34  1.66    Male     No  Sun  Dinner     3\n",
              "2       21.01  3.50    Male     No  Sun  Dinner     3\n",
              "3       23.68  3.31    Male     No  Sun  Dinner     2\n",
              "4       24.59  3.61  Female     No  Sun  Dinner     4"
            ]
          },
          "execution_count": 1,
          "metadata": {},
          "output_type": "execute_result"
        }
      ],
      "source": [
        "%pylab inline\n",
        "import seaborn as sns\n",
        "import pandas as pd\n",
        "\n",
        "tips = sns.load_dataset(\"tips\")\n",
        "tips.head(5)"
      ]
    },
    {
      "cell_type": "markdown",
      "id": "6b2a7104",
      "metadata": {
        "id": "6b2a7104"
      },
      "source": [
        "## Exercise 1\n",
        "\n",
        "* How many people visited the restaurant each day of the week?\n",
        "\n",
        "* Check: There were 152 visitors on Thursday."
      ]
    },
    {
      "cell_type": "code",
      "execution_count": 2,
      "id": "ba49d0b3",
      "metadata": {
        "colab": {
          "base_uri": "https://localhost:8080/",
          "height": 0
        },
        "id": "ba49d0b3",
        "outputId": "7bce93fc-f05e-480d-babc-e261d54ab34f"
      },
      "outputs": [
        {
          "name": "stdout",
          "output_type": "stream",
          "text": [
            "day\n",
            "Thur    152\n",
            "Fri      40\n",
            "Sat     219\n",
            "Sun     216\n",
            "Name: size, dtype: int64\n"
          ]
        }
      ],
      "source": [
        "value = tips.groupby(\"day\")[\"size\"].sum()\n",
        "print(value)"
      ]
    },
    {
      "cell_type": "code",
      "execution_count": null,
      "id": "b0440272",
      "metadata": {
        "id": "b0440272"
      },
      "outputs": [],
      "source": []
    },
    {
      "cell_type": "markdown",
      "id": "b951f1b6",
      "metadata": {
        "id": "b951f1b6"
      },
      "source": [
        "## Exercise 2\n",
        "* What was the average bill paid each day of the week?\n",
        "\n",
        "* Check: The average bill on Thursday was $17.48.\n",
        "\n",
        "\n"
      ]
    },
    {
      "cell_type": "code",
      "execution_count": 3,
      "id": "7e657699",
      "metadata": {
        "colab": {
          "base_uri": "https://localhost:8080/",
          "height": 0
        },
        "id": "7e657699",
        "outputId": "236ca918-fc28-4197-acef-4206cb28dcf9"
      },
      "outputs": [
        {
          "name": "stdout",
          "output_type": "stream",
          "text": [
            "day\n",
            "Thur    17.682742\n",
            "Fri     17.151579\n",
            "Sat     20.441379\n",
            "Sun     21.410000\n",
            "Name: total_bill, dtype: float64\n"
          ]
        }
      ],
      "source": [
        "avg_bill_by_day = tips.groupby(\"day\")[\"total_bill\"].mean()\n",
        "print(avg_bill_by_day)\n"
      ]
    },
    {
      "cell_type": "code",
      "execution_count": null,
      "id": "8a59869a",
      "metadata": {
        "id": "8a59869a"
      },
      "outputs": [],
      "source": []
    },
    {
      "cell_type": "markdown",
      "id": "6b60ed5c",
      "metadata": {
        "id": "6b60ed5c"
      },
      "source": [
        "## Exercise 3\n",
        "* For each restaurant visit, compute what percentage of the total bill was the tip, and then compute the average value of this percentage for male and for female customers.\n",
        "\n",
        "* Check: The average tip for males was 15.76%.\n",
        "\n"
      ]
    },
    {
      "cell_type": "code",
      "execution_count": 4,
      "id": "958165e4",
      "metadata": {
        "colab": {
          "base_uri": "https://localhost:8080/",
          "height": 0
        },
        "id": "958165e4",
        "outputId": "bfa75db9-5a78-4c5f-d76b-62c901b9ac47"
      },
      "outputs": [
        {
          "data": {
            "text/plain": [
              "sex\n",
              "Male      15.765055\n",
              "Female    16.649074\n",
              "dtype: float64"
            ]
          },
          "execution_count": 4,
          "metadata": {},
          "output_type": "execute_result"
        }
      ],
      "source": [
        "tip_percentage = (tips['tip']/tips['total_bill'])*100\n",
        "tip_percentage.groupby(tips['sex']).mean()"
      ]
    },
    {
      "cell_type": "code",
      "execution_count": null,
      "id": "a46084b4",
      "metadata": {
        "id": "a46084b4"
      },
      "outputs": [],
      "source": []
    },
    {
      "cell_type": "markdown",
      "id": "616f5366",
      "metadata": {
        "id": "616f5366"
      },
      "source": [
        "## Exercise 4\n",
        "\n",
        "* Compute a DateFrame with 10 rows selected from the tips data: 5 rows with the the 5 highest total bills for smokers and 5 rows with the 5 highest total bills for non-smokers\n",
        "\n",
        "* Check: The 5 highest bills for smokers were \\\\$50.81, \\\\$43.35, \\\\$44.30, \\\\$43.11 and \\\\$40.55."
      ]
    },
    {
      "cell_type": "code",
      "execution_count": 5,
      "id": "f1d215db",
      "metadata": {
        "colab": {
          "base_uri": "https://localhost:8080/",
          "height": 363
        },
        "id": "f1d215db",
        "outputId": "cd25a4d0-9b07-41dd-d302-4eb4dc680ccb"
      },
      "outputs": [
        {
          "data": {
            "text/html": [
              "<div>\n",
              "<style scoped>\n",
              "    .dataframe tbody tr th:only-of-type {\n",
              "        vertical-align: middle;\n",
              "    }\n",
              "\n",
              "    .dataframe tbody tr th {\n",
              "        vertical-align: top;\n",
              "    }\n",
              "\n",
              "    .dataframe thead th {\n",
              "        text-align: right;\n",
              "    }\n",
              "</style>\n",
              "<table border=\"1\" class=\"dataframe\">\n",
              "  <thead>\n",
              "    <tr style=\"text-align: right;\">\n",
              "      <th></th>\n",
              "      <th>total_bill</th>\n",
              "      <th>tip</th>\n",
              "      <th>sex</th>\n",
              "      <th>smoker</th>\n",
              "      <th>day</th>\n",
              "      <th>time</th>\n",
              "      <th>size</th>\n",
              "    </tr>\n",
              "  </thead>\n",
              "  <tbody>\n",
              "    <tr>\n",
              "      <th>170</th>\n",
              "      <td>50.81</td>\n",
              "      <td>10.00</td>\n",
              "      <td>Male</td>\n",
              "      <td>Yes</td>\n",
              "      <td>Sat</td>\n",
              "      <td>Dinner</td>\n",
              "      <td>3</td>\n",
              "    </tr>\n",
              "    <tr>\n",
              "      <th>182</th>\n",
              "      <td>45.35</td>\n",
              "      <td>3.50</td>\n",
              "      <td>Male</td>\n",
              "      <td>Yes</td>\n",
              "      <td>Sun</td>\n",
              "      <td>Dinner</td>\n",
              "      <td>3</td>\n",
              "    </tr>\n",
              "    <tr>\n",
              "      <th>102</th>\n",
              "      <td>44.30</td>\n",
              "      <td>2.50</td>\n",
              "      <td>Female</td>\n",
              "      <td>Yes</td>\n",
              "      <td>Sat</td>\n",
              "      <td>Dinner</td>\n",
              "      <td>3</td>\n",
              "    </tr>\n",
              "    <tr>\n",
              "      <th>197</th>\n",
              "      <td>43.11</td>\n",
              "      <td>5.00</td>\n",
              "      <td>Female</td>\n",
              "      <td>Yes</td>\n",
              "      <td>Thur</td>\n",
              "      <td>Lunch</td>\n",
              "      <td>4</td>\n",
              "    </tr>\n",
              "    <tr>\n",
              "      <th>184</th>\n",
              "      <td>40.55</td>\n",
              "      <td>3.00</td>\n",
              "      <td>Male</td>\n",
              "      <td>Yes</td>\n",
              "      <td>Sun</td>\n",
              "      <td>Dinner</td>\n",
              "      <td>2</td>\n",
              "    </tr>\n",
              "    <tr>\n",
              "      <th>212</th>\n",
              "      <td>48.33</td>\n",
              "      <td>9.00</td>\n",
              "      <td>Male</td>\n",
              "      <td>No</td>\n",
              "      <td>Sat</td>\n",
              "      <td>Dinner</td>\n",
              "      <td>4</td>\n",
              "    </tr>\n",
              "    <tr>\n",
              "      <th>59</th>\n",
              "      <td>48.27</td>\n",
              "      <td>6.73</td>\n",
              "      <td>Male</td>\n",
              "      <td>No</td>\n",
              "      <td>Sat</td>\n",
              "      <td>Dinner</td>\n",
              "      <td>4</td>\n",
              "    </tr>\n",
              "    <tr>\n",
              "      <th>156</th>\n",
              "      <td>48.17</td>\n",
              "      <td>5.00</td>\n",
              "      <td>Male</td>\n",
              "      <td>No</td>\n",
              "      <td>Sun</td>\n",
              "      <td>Dinner</td>\n",
              "      <td>6</td>\n",
              "    </tr>\n",
              "    <tr>\n",
              "      <th>142</th>\n",
              "      <td>41.19</td>\n",
              "      <td>5.00</td>\n",
              "      <td>Male</td>\n",
              "      <td>No</td>\n",
              "      <td>Thur</td>\n",
              "      <td>Lunch</td>\n",
              "      <td>5</td>\n",
              "    </tr>\n",
              "    <tr>\n",
              "      <th>23</th>\n",
              "      <td>39.42</td>\n",
              "      <td>7.58</td>\n",
              "      <td>Male</td>\n",
              "      <td>No</td>\n",
              "      <td>Sat</td>\n",
              "      <td>Dinner</td>\n",
              "      <td>4</td>\n",
              "    </tr>\n",
              "  </tbody>\n",
              "</table>\n",
              "</div>"
            ],
            "text/plain": [
              "     total_bill    tip     sex smoker   day    time  size\n",
              "170       50.81  10.00    Male    Yes   Sat  Dinner     3\n",
              "182       45.35   3.50    Male    Yes   Sun  Dinner     3\n",
              "102       44.30   2.50  Female    Yes   Sat  Dinner     3\n",
              "197       43.11   5.00  Female    Yes  Thur   Lunch     4\n",
              "184       40.55   3.00    Male    Yes   Sun  Dinner     2\n",
              "212       48.33   9.00    Male     No   Sat  Dinner     4\n",
              "59        48.27   6.73    Male     No   Sat  Dinner     4\n",
              "156       48.17   5.00    Male     No   Sun  Dinner     6\n",
              "142       41.19   5.00    Male     No  Thur   Lunch     5\n",
              "23        39.42   7.58    Male     No   Sat  Dinner     4"
            ]
          },
          "execution_count": 5,
          "metadata": {},
          "output_type": "execute_result"
        }
      ],
      "source": [
        "df1 = tips[tips['smoker']=='Yes'].sort_values(by=[\"total_bill\"],ascending=False).head(5)\n",
        "df2 = tips[tips['smoker']=='No'].sort_values(by=[\"total_bill\"],ascending=False).head(5)\n",
        "df = [df1,df2]\n",
        "df = pd.concat(df)\n",
        "df"
      ]
    },
    {
      "cell_type": "code",
      "execution_count": null,
      "id": "725c5649",
      "metadata": {
        "id": "725c5649"
      },
      "outputs": [],
      "source": []
    },
    {
      "cell_type": "markdown",
      "id": "153e5834",
      "metadata": {
        "id": "153e5834"
      },
      "source": [
        "## Exercise 5\n",
        "* Create a DataFrame with 4 rows selected from the tips data: a row with the highest total bill for a male smoker, a row with the highest total bill for a male non-smoker, and the same for a female smokers and a female non-smokers.\n",
        "\n",
        "* Check: The highest bills were \\\\$50.81 for male smoker, \\\\$48.33 for a male non-smoker, \\\\$44.30 for a female smoker and \\\\$35.83 for a female non-smoker."
      ]
    },
    {
      "cell_type": "code",
      "execution_count": 6,
      "id": "731a5c59",
      "metadata": {
        "colab": {
          "base_uri": "https://localhost:8080/",
          "height": 175
        },
        "id": "731a5c59",
        "outputId": "78fcfc76-3e86-4166-8b61-b575bd1afe94"
      },
      "outputs": [
        {
          "data": {
            "text/html": [
              "<div>\n",
              "<style scoped>\n",
              "    .dataframe tbody tr th:only-of-type {\n",
              "        vertical-align: middle;\n",
              "    }\n",
              "\n",
              "    .dataframe tbody tr th {\n",
              "        vertical-align: top;\n",
              "    }\n",
              "\n",
              "    .dataframe thead th {\n",
              "        text-align: right;\n",
              "    }\n",
              "</style>\n",
              "<table border=\"1\" class=\"dataframe\">\n",
              "  <thead>\n",
              "    <tr style=\"text-align: right;\">\n",
              "      <th></th>\n",
              "      <th>total_bill</th>\n",
              "      <th>tip</th>\n",
              "      <th>sex</th>\n",
              "      <th>smoker</th>\n",
              "      <th>day</th>\n",
              "      <th>time</th>\n",
              "      <th>size</th>\n",
              "    </tr>\n",
              "  </thead>\n",
              "  <tbody>\n",
              "    <tr>\n",
              "      <th>170</th>\n",
              "      <td>50.81</td>\n",
              "      <td>10.00</td>\n",
              "      <td>Male</td>\n",
              "      <td>Yes</td>\n",
              "      <td>Sat</td>\n",
              "      <td>Dinner</td>\n",
              "      <td>3</td>\n",
              "    </tr>\n",
              "    <tr>\n",
              "      <th>212</th>\n",
              "      <td>48.33</td>\n",
              "      <td>9.00</td>\n",
              "      <td>Male</td>\n",
              "      <td>No</td>\n",
              "      <td>Sat</td>\n",
              "      <td>Dinner</td>\n",
              "      <td>4</td>\n",
              "    </tr>\n",
              "    <tr>\n",
              "      <th>102</th>\n",
              "      <td>44.30</td>\n",
              "      <td>2.50</td>\n",
              "      <td>Female</td>\n",
              "      <td>Yes</td>\n",
              "      <td>Sat</td>\n",
              "      <td>Dinner</td>\n",
              "      <td>3</td>\n",
              "    </tr>\n",
              "    <tr>\n",
              "      <th>238</th>\n",
              "      <td>35.83</td>\n",
              "      <td>4.67</td>\n",
              "      <td>Female</td>\n",
              "      <td>No</td>\n",
              "      <td>Sat</td>\n",
              "      <td>Dinner</td>\n",
              "      <td>3</td>\n",
              "    </tr>\n",
              "  </tbody>\n",
              "</table>\n",
              "</div>"
            ],
            "text/plain": [
              "     total_bill    tip     sex smoker  day    time  size\n",
              "170       50.81  10.00    Male    Yes  Sat  Dinner     3\n",
              "212       48.33   9.00    Male     No  Sat  Dinner     4\n",
              "102       44.30   2.50  Female    Yes  Sat  Dinner     3\n",
              "238       35.83   4.67  Female     No  Sat  Dinner     3"
            ]
          },
          "execution_count": 6,
          "metadata": {},
          "output_type": "execute_result"
        }
      ],
      "source": [
        "df1 = tips[(tips['sex']==\"Male\")& (tips['smoker']==\"Yes\")].sort_values(by=[\"total_bill\"],ascending=False).head(1)\n",
        "df2 = tips[(tips['sex']==\"Male\")& (tips['smoker']==\"No\")].sort_values(by=[\"total_bill\"],ascending=False).head(1)\n",
        "df3 = tips[(tips['sex']==\"Female\")& (tips['smoker']==\"Yes\")].sort_values(by=[\"total_bill\"],ascending=False).head(1)\n",
        "df4 = tips[(tips['sex']==\"Female\")& (tips['smoker']==\"No\")].sort_values(by=[\"total_bill\"],ascending=False).head(1)\n",
        "\n",
        "df = [df1,df2]\n",
        "df = pd.concat(df)\n",
        "df = [df,df3]\n",
        "df = pd.concat(df)\n",
        "df = [df,df4]\n",
        "df = pd.concat(df)\n",
        "df"
      ]
    },
    {
      "cell_type": "code",
      "execution_count": null,
      "id": "b343cb6f",
      "metadata": {
        "id": "b343cb6f"
      },
      "outputs": [],
      "source": []
    },
    {
      "cell_type": "markdown",
      "id": "49fec41f",
      "metadata": {
        "id": "49fec41f"
      },
      "source": [
        "# Exercise 6\n",
        "* Create a DataFrame with two rows indicating if a customer was a male or a female, and columns indicating which day of the week the customer visited the restaurant. The value in a given row and column should be the amount of the largest tip that a customer of a given sex and visiting on a given day paid.\n",
        "\n",
        "* Check: The highest tip paid on Thursday was \\\\$6.70 for males and \\\\$5.17 for females."
      ]
    },
    {
      "cell_type": "code",
      "execution_count": 7,
      "id": "e9cd6275",
      "metadata": {
        "colab": {
          "base_uri": "https://localhost:8080/",
          "height": 143
        },
        "id": "e9cd6275",
        "outputId": "45724cdd-3ae4-486d-df58-2706fb73e112"
      },
      "outputs": [
        {
          "data": {
            "text/html": [
              "<div>\n",
              "<style scoped>\n",
              "    .dataframe tbody tr th:only-of-type {\n",
              "        vertical-align: middle;\n",
              "    }\n",
              "\n",
              "    .dataframe tbody tr th {\n",
              "        vertical-align: top;\n",
              "    }\n",
              "\n",
              "    .dataframe thead th {\n",
              "        text-align: right;\n",
              "    }\n",
              "</style>\n",
              "<table border=\"1\" class=\"dataframe\">\n",
              "  <thead>\n",
              "    <tr style=\"text-align: right;\">\n",
              "      <th>day</th>\n",
              "      <th>Thur</th>\n",
              "      <th>Fri</th>\n",
              "      <th>Sat</th>\n",
              "      <th>Sun</th>\n",
              "    </tr>\n",
              "    <tr>\n",
              "      <th>sex</th>\n",
              "      <th></th>\n",
              "      <th></th>\n",
              "      <th></th>\n",
              "      <th></th>\n",
              "    </tr>\n",
              "  </thead>\n",
              "  <tbody>\n",
              "    <tr>\n",
              "      <th>Male</th>\n",
              "      <td>6.70</td>\n",
              "      <td>4.73</td>\n",
              "      <td>10.0</td>\n",
              "      <td>6.5</td>\n",
              "    </tr>\n",
              "    <tr>\n",
              "      <th>Female</th>\n",
              "      <td>5.17</td>\n",
              "      <td>4.30</td>\n",
              "      <td>6.5</td>\n",
              "      <td>5.2</td>\n",
              "    </tr>\n",
              "  </tbody>\n",
              "</table>\n",
              "</div>"
            ],
            "text/plain": [
              "day     Thur   Fri   Sat  Sun\n",
              "sex                          \n",
              "Male    6.70  4.73  10.0  6.5\n",
              "Female  5.17  4.30   6.5  5.2"
            ]
          },
          "execution_count": 7,
          "metadata": {},
          "output_type": "execute_result"
        }
      ],
      "source": [
        "max_tip = pd.pivot_table(tips,index=\"sex\", values=\"tip\",  columns=\"day\", aggfunc=np.max)\n",
        "max_tip"
      ]
    },
    {
      "cell_type": "code",
      "execution_count": null,
      "id": "998f0066",
      "metadata": {
        "id": "998f0066"
      },
      "outputs": [],
      "source": []
    },
    {
      "cell_type": "markdown",
      "id": "e1d02871",
      "metadata": {
        "id": "e1d02871"
      },
      "source": [
        "# Exercise 7\n"
      ]
    },
    {
      "cell_type": "markdown",
      "id": "4c969fca",
      "metadata": {
        "id": "4c969fca"
      },
      "source": [
        "* Use Seaborn to make an interesting plot for the data and use your figure to explain an insight about the data.\n"
      ]
    },
    {
      "cell_type": "code",
      "execution_count": 8,
      "id": "6ac6e868",
      "metadata": {
        "colab": {
          "base_uri": "https://localhost:8080/",
          "height": 387
        },
        "id": "6ac6e868",
        "outputId": "2b17ad7c-ba79-4705-d90f-c9ce81a66f07"
      },
      "outputs": [
        {
          "data": {
            "text/plain": [
              "<seaborn.axisgrid.FacetGrid at 0x7f591433e5f0>"
            ]
          },
          "execution_count": 8,
          "metadata": {},
          "output_type": "execute_result"
        },
        {
          "data": {
            "image/png": "[encoded data removed]",
            "text/plain": [
              "<Figure size 572.125x500 with 1 Axes>"
            ]
          },
          "metadata": {},
          "output_type": "display_data"
        }
      ],
      "source": [
        "sns.lmplot(data=tips, x=\"total_bill\", y=\"tip\", hue=\"smoker\")"
      ]
    },
    {
      "cell_type": "markdown",
      "id": "ua4YkFsFCCBd",
      "metadata": {
        "id": "ua4YkFsFCCBd"
      },
      "source": [
        "As we can see, it is apparent that non-smoking customers are more likely to pay higher tips on their bill as the total bill amount increases.\n",
        "\n",
        "\n",
        "\n"
      ]
    },
    {
      "cell_type": "code",
      "execution_count": null,
      "id": "bJsX0S6k_TcK",
      "metadata": {
        "id": "bJsX0S6k_TcK"
      },
      "outputs": [],
      "source": []
    },
    {
      "cell_type": "code",
      "execution_count": null,
      "id": "vsxJYeViDYOy",
      "metadata": {
        "id": "vsxJYeViDYOy"
      },
      "outputs": [],
      "source": []
    }
  ],
  "metadata": {
    "colab": {
      "provenance": []
    },
    "kernelspec": {
      "display_name": "Python 3",
      "language": "python",
      "name": "python3"
    },
    "language_info": {
      "codemirror_mode": {
        "name": "ipython",
        "version": 3
      },
      "file_extension": ".py",
      "mimetype": "text/x-python",
      "name": "python",
      "nbconvert_exporter": "python",
      "pygments_lexer": "ipython3",
      "version": "3.10.4"
    },
    "latex_envs": {
      "LaTeX_envs_menu_present": true,
      "autocomplete": true,
      "bibliofile": "biblio.bib",
      "cite_by": "apalike",
      "current_citInitial": 1,
      "eqLabelWithNumbers": true,
      "eqNumInitial": 1,
      "hotkeys": {
        "equation": "Ctrl-E",
        "itemize": "Ctrl-I"
      },
      "labels_anchors": false,
      "latex_user_defs": false,
      "report_style_numbering": false,
      "user_envs_cfg": false
    },
    "vscode": {
      "interpreter": {
        "hash": "3ad933181bd8a04b432d3370b9dc3b0662ad032c4dfaa4e4f1596c548f763858"
      }
    }
  },
  "nbformat": 4,
  "nbformat_minor": 5
}
