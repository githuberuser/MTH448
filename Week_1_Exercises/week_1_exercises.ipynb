{
 "cells": [
  {
   "cell_type": "markdown",
   "id": "ba8e3470",
   "metadata": {},
   "source": [
    "# Week 1 Exercises\n",
    "\n",
    "* The exercise below should be completed using tools provided by numpy arrays. \n",
    "* Do not use for or while loops, list comprehensions etc. \n",
    "* The code in each case can be written in fewer than 10 lines."
   ]
  },
  {
   "cell_type": "code",
   "execution_count": 84,
   "id": "cad5ec6f",
   "metadata": {},
   "outputs": [
    {
     "name": "stdout",
     "output_type": "stream",
     "text": [
      "Populating the interactive namespace from numpy and matplotlib\n"
     ]
    }
   ],
   "source": [
    "import numpy as np\n",
    "%pylab inline"
   ]
  },
  {
   "cell_type": "markdown",
   "id": "e6a638df",
   "metadata": {},
   "source": [
    "## Exercise 1\n",
    "\n",
    "* Write a function border(a) which takes as an argument an 2-dimensional numpy array a and returns an array obtained by adding a border of zeros to a."
   ]
  },
  {
   "cell_type": "raw",
   "id": "98a9e166",
   "metadata": {},
   "source": [
    "a:\n",
    "[[ 0  1  2  3]\n",
    " [ 4  5  6  7]\n",
    " [ 8  9 10 11]]\n",
    "\n",
    "border(a):\n",
    "[[ 0  0  0  0  0  0]\n",
    " [ 0  0  1  2  3  0]\n",
    " [ 0  4  5  6  7  0]\n",
    " [ 0  8  9 10 11  0]\n",
    " [ 0  0  0  0  0  0]]"
   ]
  },
  {
   "cell_type": "code",
   "execution_count": 85,
   "id": "27091a1a",
   "metadata": {},
   "outputs": [
    {
     "data": {
      "text/plain": [
       "array([[ 0,  1,  2,  3],\n",
       "       [ 4,  5,  6,  7],\n",
       "       [ 8,  9, 10, 11]])"
      ]
     },
     "execution_count": 85,
     "metadata": {},
     "output_type": "execute_result"
    }
   ],
   "source": [
    "a = np.arange(12).reshape(3, 4)\n",
    "a"
   ]
  },
  {
   "cell_type": "markdown",
   "id": "1b533eb9",
   "metadata": {},
   "source": [
    "### 1. Answer"
   ]
  },
  {
   "cell_type": "code",
   "execution_count": 86,
   "id": "e85f0221",
   "metadata": {},
   "outputs": [
    {
     "data": {
      "text/plain": [
       "array([[ 0,  0,  0,  0,  0,  0],\n",
       "       [ 0,  0,  1,  2,  3,  0],\n",
       "       [ 0,  4,  5,  6,  7,  0],\n",
       "       [ 0,  8,  9, 10, 11,  0],\n",
       "       [ 0,  0,  0,  0,  0,  0]])"
      ]
     },
     "execution_count": 86,
     "metadata": {},
     "output_type": "execute_result"
    }
   ],
   "source": [
    "def border(a):\n",
    "    b = np.zeros((a.shape[0]+2,a.shape[1]+2),dtype = int)\n",
    "    b[1:-1,1:-1] = a\n",
    "    b\n",
    "    return b # b is the matrix we want to return \n",
    "border(a)"
   ]
  },
  {
   "cell_type": "markdown",
   "id": "c25c25f7",
   "metadata": {},
   "source": [
    "## Exercise 2\n",
    "\n",
    "* Write a function row_split(a, k) which for a given 2-dimensional numpy array a and a positive integer k returns a tuple of two 2-dimensional numpy arrays: one consisting of the first k rows of a and the second consisting of the remaining rows."
   ]
  },
  {
   "cell_type": "raw",
   "id": "60d44b49",
   "metadata": {},
   "source": [
    "a:\n",
    "[[ 0  1  2]\n",
    " [ 3  4  5]\n",
    " [ 6  7  8]\n",
    " [ 9 10 11]\n",
    " [12 13 14]]\n",
    "\n",
    "row_split(a, 3):\n",
    "[[0 1 2]\n",
    " [3 4 5]\n",
    " [6 7 8]]\n",
    "\n",
    " [[ 9 10 11]\n",
    " [12 13 14]]"
   ]
  },
  {
   "cell_type": "code",
   "execution_count": 87,
   "id": "6e5496aa",
   "metadata": {},
   "outputs": [
    {
     "data": {
      "text/plain": [
       "array([[ 0,  1,  2],\n",
       "       [ 3,  4,  5],\n",
       "       [ 6,  7,  8],\n",
       "       [ 9, 10, 11],\n",
       "       [12, 13, 14]])"
      ]
     },
     "execution_count": 87,
     "metadata": {},
     "output_type": "execute_result"
    }
   ],
   "source": [
    "a = np.arange(15).reshape(5, 3)\n",
    "a"
   ]
  },
  {
   "cell_type": "markdown",
   "id": "892cdf4f",
   "metadata": {},
   "source": [
    "### 2. Answer"
   ]
  },
  {
   "cell_type": "code",
   "execution_count": 88,
   "id": "8116afe9",
   "metadata": {},
   "outputs": [],
   "source": [
    "def row_split(a,num):\n",
    "    b = a[:num]\n",
    "    c = a[num:]\n",
    "    return b,c"
   ]
  },
  {
   "cell_type": "code",
   "execution_count": 89,
   "id": "0754319c",
   "metadata": {},
   "outputs": [
    {
     "name": "stdout",
     "output_type": "stream",
     "text": [
      "[[0 1 2]\n",
      " [3 4 5]\n",
      " [6 7 8]]\n",
      "\n",
      "\n",
      "[[ 9 10 11]\n",
      " [12 13 14]]\n"
     ]
    }
   ],
   "source": [
    "print(row_split(a,3)[0])\n",
    "print(\"\\n\")\n",
    "print(row_split(a,3)[1])"
   ]
  },
  {
   "cell_type": "markdown",
   "id": "3adcadf5",
   "metadata": {},
   "source": [
    "## Exercise 3\n",
    "\n",
    "* Write a function n_smallest(a, n) which given a 1-dimensional numpy array a and an integer n returns an array with indices of n smallest elements of a"
   ]
  },
  {
   "cell_type": "raw",
   "id": "158ac433",
   "metadata": {},
   "source": [
    "a:\n",
    "[85 63 51 26 30  4  7  1 17 81]\n",
    "\n",
    "n_smallest(a, 3):\n",
    "[7 5 6]"
   ]
  },
  {
   "cell_type": "code",
   "execution_count": 90,
   "id": "f53ae7ac",
   "metadata": {},
   "outputs": [
    {
     "name": "stdout",
     "output_type": "stream",
     "text": [
      "[85 63 51 26 30  4  7  1 17 81]\n"
     ]
    }
   ],
   "source": [
    "rng = np.random.default_rng(0) # initialize the random number generator\n",
    "a = rng.integers(0, 100, 10)\n",
    "print(a)"
   ]
  },
  {
   "cell_type": "markdown",
   "id": "2b8fe4a6",
   "metadata": {},
   "source": [
    "### 3. Answer"
   ]
  },
  {
   "cell_type": "code",
   "execution_count": 91,
   "id": "a4da5d4e",
   "metadata": {},
   "outputs": [
    {
     "data": {
      "text/plain": [
       "array([7, 5, 6])"
      ]
     },
     "execution_count": 91,
     "metadata": {},
     "output_type": "execute_result"
    }
   ],
   "source": [
    "def n_smallest(a, n):\n",
    "    return np.argsort(a)[:n]\n",
    "n_smallest(a,3)"
   ]
  },
  {
   "cell_type": "markdown",
   "id": "da2fdff8",
   "metadata": {},
   "source": [
    "## Exercise 4\n",
    "\n",
    "* Write function checkers(n) which returns an $n \\times n$  numpy array consisting of zeros and ones arranged in a checkerboard pattern. To check that this function works correctly, test it for both odd and even values of $n$."
   ]
  },
  {
   "cell_type": "raw",
   "id": "804579df",
   "metadata": {},
   "source": [
    "array([[1., 0., 1., 0., 1., 0., 1., 0.],\n",
    "       [0., 1., 0., 1., 0., 1., 0., 1.],\n",
    "       [1., 0., 1., 0., 1., 0., 1., 0.],\n",
    "       [0., 1., 0., 1., 0., 1., 0., 1.],\n",
    "       [1., 0., 1., 0., 1., 0., 1., 0.],\n",
    "       [0., 1., 0., 1., 0., 1., 0., 1.],\n",
    "       [1., 0., 1., 0., 1., 0., 1., 0.],\n",
    "       [0., 1., 0., 1., 0., 1., 0., 1.]])"
   ]
  },
  {
   "cell_type": "code",
   "execution_count": 92,
   "id": "f12cb9ca",
   "metadata": {},
   "outputs": [
    {
     "data": {
      "text/plain": [
       "array([[1., 0., 1., 0., 1.],\n",
       "       [0., 1., 0., 1., 0.],\n",
       "       [1., 0., 1., 0., 1.],\n",
       "       [0., 1., 0., 1., 0.],\n",
       "       [1., 0., 1., 0., 1.]])"
      ]
     },
     "execution_count": 92,
     "metadata": {},
     "output_type": "execute_result"
    }
   ],
   "source": [
    "a = np.zeros(5*5)\n",
    "a[::2]=1\n",
    "a.reshape(5,5)"
   ]
  },
  {
   "cell_type": "markdown",
   "id": "333dff1d",
   "metadata": {},
   "source": [
    "### 4. Answer"
   ]
  },
  {
   "cell_type": "code",
   "execution_count": 93,
   "id": "2b08fbc8",
   "metadata": {},
   "outputs": [],
   "source": [
    "def checkers(n):\n",
    "    if n % 2 ==1:\n",
    "        a = np.zeros(n*n)\n",
    "        a[::2]=1\n",
    "        b = a.reshape(n,n)\n",
    "        return b\n",
    "    else:\n",
    "        mtx = np.zeros((6,6))\n",
    "        a = np.zeros(6)\n",
    "        ol = a.copy()\n",
    "        ol[::2]=1 #101010\n",
    "        el = a.copy()\n",
    "        el[1::2]=1 # 010101\n",
    "\n",
    "        mtx[::2] = ol # odd lines\n",
    "        mtx[1::2] = el\n",
    "        return mtx"
   ]
  },
  {
   "cell_type": "markdown",
   "id": "8318312c",
   "metadata": {},
   "source": [
    "### Test for # 4:"
   ]
  },
  {
   "cell_type": "code",
   "execution_count": 94,
   "id": "0bba2381",
   "metadata": {},
   "outputs": [
    {
     "name": "stdout",
     "output_type": "stream",
     "text": [
      "When n = 5: \n",
      " [[1. 0. 1. 0. 1.]\n",
      " [0. 1. 0. 1. 0.]\n",
      " [1. 0. 1. 0. 1.]\n",
      " [0. 1. 0. 1. 0.]\n",
      " [1. 0. 1. 0. 1.]] \n",
      "\n",
      " When n = 6:\n",
      " [[1. 0. 1. 0. 1. 0.]\n",
      " [0. 1. 0. 1. 0. 1.]\n",
      " [1. 0. 1. 0. 1. 0.]\n",
      " [0. 1. 0. 1. 0. 1.]\n",
      " [1. 0. 1. 0. 1. 0.]\n",
      " [0. 1. 0. 1. 0. 1.]]\n"
     ]
    }
   ],
   "source": [
    "print(\"When n = 5: \\n\",checkers(5),\"\\n\\n\",\"When n = 6:\\n\",checkers(6))"
   ]
  },
  {
   "cell_type": "markdown",
   "id": "03baf5ad",
   "metadata": {},
   "source": [
    "## Exercise 5\n",
    "\n",
    "* Write a function sub_table(n) which returns an  numpy array with the subtraction table of numbers from 0 to $n-1$. The value in the row $i$ and column $j$ of the array should be the number $i-j$."
   ]
  },
  {
   "cell_type": "raw",
   "id": "c20fe186",
   "metadata": {},
   "source": [
    "array([[  0,  -1,  -2,  -3,  -4,  -5,  -6,  -7,  -8,  -9, -10],\n",
    "       [  1,   0,  -1,  -2,  -3,  -4,  -5,  -6,  -7,  -8,  -9],\n",
    "       [  2,   1,   0,  -1,  -2,  -3,  -4,  -5,  -6,  -7,  -8],\n",
    "       [  3,   2,   1,   0,  -1,  -2,  -3,  -4,  -5,  -6,  -7],\n",
    "       [  4,   3,   2,   1,   0,  -1,  -2,  -3,  -4,  -5,  -6],\n",
    "       [  5,   4,   3,   2,   1,   0,  -1,  -2,  -3,  -4,  -5],\n",
    "       [  6,   5,   4,   3,   2,   1,   0,  -1,  -2,  -3,  -4],\n",
    "       [  7,   6,   5,   4,   3,   2,   1,   0,  -1,  -2,  -3],\n",
    "       [  8,   7,   6,   5,   4,   3,   2,   1,   0,  -1,  -2],\n",
    "       [  9,   8,   7,   6,   5,   4,   3,   2,   1,   0,  -1],\n",
    "       [ 10,   9,   8,   7,   6,   5,   4,   3,   2,   1,   0]])"
   ]
  },
  {
   "cell_type": "markdown",
   "id": "8952eb50",
   "metadata": {},
   "source": [
    "### 5. Answer"
   ]
  },
  {
   "cell_type": "code",
   "execution_count": 108,
   "id": "7ff0a2a2",
   "metadata": {},
   "outputs": [
    {
     "data": {
      "text/plain": [
       "array([[  0,  -1,  -2,  -3,  -4,  -5,  -6,  -7,  -8,  -9, -10],\n",
       "       [  1,   0,  -1,  -2,  -3,  -4,  -5,  -6,  -7,  -8,  -9],\n",
       "       [  2,   1,   0,  -1,  -2,  -3,  -4,  -5,  -6,  -7,  -8],\n",
       "       [  3,   2,   1,   0,  -1,  -2,  -3,  -4,  -5,  -6,  -7],\n",
       "       [  4,   3,   2,   1,   0,  -1,  -2,  -3,  -4,  -5,  -6],\n",
       "       [  5,   4,   3,   2,   1,   0,  -1,  -2,  -3,  -4,  -5],\n",
       "       [  6,   5,   4,   3,   2,   1,   0,  -1,  -2,  -3,  -4],\n",
       "       [  7,   6,   5,   4,   3,   2,   1,   0,  -1,  -2,  -3],\n",
       "       [  8,   7,   6,   5,   4,   3,   2,   1,   0,  -1,  -2],\n",
       "       [  9,   8,   7,   6,   5,   4,   3,   2,   1,   0,  -1],\n",
       "       [ 10,   9,   8,   7,   6,   5,   4,   3,   2,   1,   0]])"
      ]
     },
     "execution_count": 108,
     "metadata": {},
     "output_type": "execute_result"
    }
   ],
   "source": [
    "def sub_table(n):\n",
    "    return np.subtract.outer(np.arange(n), np.arange(n))\n",
    "sub_table(11)"
   ]
  },
  {
   "cell_type": "markdown",
   "id": "3f54169f",
   "metadata": {},
   "source": [
    "## Exercise 6\n",
    "\n",
    "* If ${\\bf v}$  and ${\\bf w}$ are two vectors with $n$ coordinates, then their Euclidean distance  is given by the formula: \n",
    "$$d({\\bf v},{\\bf w}) = \\sqrt{\\sum_{i=1}^n (v_i -w_i)^2}$$\n",
    "\n",
    "* Let $X$ be an $m\\times n$ numpy array, and let ${\\bf w}$ be a 1-dimensional array with $n$ entries. Write a function dist(X, w) which returns a 1-dimensional array with $m$ entries, such that the $i$-th entry is the distance between ${\\bf w}$ and the $i$-th row of $X$."
   ]
  },
  {
   "cell_type": "raw",
   "id": "033c3d26",
   "metadata": {},
   "source": [
    "X:\n",
    "[[ 0  1  2  3]\n",
    " [ 4  5  6  7]\n",
    " [ 8  9 10 11]]\n",
    "\n",
    "w:\n",
    "[0 1 0 1]\n",
    "\n",
    "dist(X, w):\n",
    "[ 2.82842712 10.19803903 18.11077028]"
   ]
  },
  {
   "cell_type": "code",
   "execution_count": 96,
   "id": "d617b2e5",
   "metadata": {
    "scrolled": true
   },
   "outputs": [
    {
     "data": {
      "text/plain": [
       "array([[ 0,  1,  2,  3],\n",
       "       [ 4,  5,  6,  7],\n",
       "       [ 8,  9, 10, 11]])"
      ]
     },
     "execution_count": 96,
     "metadata": {},
     "output_type": "execute_result"
    }
   ],
   "source": [
    "X = np.arange(12).reshape(3, 4)\n",
    "X"
   ]
  },
  {
   "cell_type": "code",
   "execution_count": 97,
   "id": "dcf4f656",
   "metadata": {},
   "outputs": [
    {
     "data": {
      "text/plain": [
       "array([0, 1, 0, 1])"
      ]
     },
     "execution_count": 97,
     "metadata": {},
     "output_type": "execute_result"
    }
   ],
   "source": [
    "w = np.array([0, 1, 0, 1])\n",
    "w"
   ]
  },
  {
   "cell_type": "markdown",
   "id": "b01b3f09",
   "metadata": {},
   "source": [
    "### 6. Answer"
   ]
  },
  {
   "cell_type": "code",
   "execution_count": 98,
   "id": "3f20b910",
   "metadata": {},
   "outputs": [
    {
     "data": {
      "text/plain": [
       "array([ 2.82842712, 10.19803903, 18.11077028])"
      ]
     },
     "execution_count": 98,
     "metadata": {},
     "output_type": "execute_result"
    }
   ],
   "source": [
    "def dist(X,w):\n",
    "    return np.sqrt(sum(square(X-w),axis = 1))\n",
    "dist(X,w)"
   ]
  },
  {
   "cell_type": "code",
   "execution_count": 99,
   "id": "378c48fb",
   "metadata": {},
   "outputs": [],
   "source": [
    "# Note: axis=0 sum along the rows; axis=1 sum along the columns"
   ]
  },
  {
   "cell_type": "markdown",
   "id": "c57e3051",
   "metadata": {},
   "source": [
    "## Exercise 7\n",
    "\n",
    "* Write a function order_columns(a) which takes as an argument a 2-dimensional numpy array and returns an array obtained by reordering columns of $a$ according to the sum of their entries: the first column is the one where the sum of entries is the smallest, the last column is the one where the sum of entries is the largest."
   ]
  },
  {
   "cell_type": "raw",
   "id": "689832fd",
   "metadata": {},
   "source": [
    "a:\n",
    "[[2 3 4 5 0]\n",
    " [0 4 5 1 1]\n",
    " [5 2 1 4 1]]\n",
    "\n",
    "order_columns(a):\n",
    "[[0 2 3 4 5]\n",
    " [1 0 4 5 1]\n",
    " [1 5 2 1 4]]"
   ]
  },
  {
   "cell_type": "code",
   "execution_count": 112,
   "id": "afb5c86a",
   "metadata": {},
   "outputs": [],
   "source": [
    "def order_columns(a):\n",
    "    return a[:,argsort(sum(a,axis=0))]"
   ]
  },
  {
   "cell_type": "code",
   "execution_count": 113,
   "id": "d93c705a",
   "metadata": {},
   "outputs": [
    {
     "data": {
      "text/plain": [
       "array([[2, 3, 4, 5, 0],\n",
       "       [0, 4, 5, 1, 1],\n",
       "       [5, 2, 1, 4, 1]])"
      ]
     },
     "execution_count": 113,
     "metadata": {},
     "output_type": "execute_result"
    }
   ],
   "source": [
    "rng = np.random.default_rng(1) # initialize the random number generator\n",
    "a = rng.integers(0, 6, (3,5))\n",
    "a"
   ]
  },
  {
   "cell_type": "code",
   "execution_count": 114,
   "id": "8947f83c",
   "metadata": {},
   "outputs": [
    {
     "data": {
      "text/plain": [
       "array([[0, 2, 3, 4, 5],\n",
       "       [1, 0, 4, 5, 1],\n",
       "       [1, 5, 2, 1, 4]])"
      ]
     },
     "execution_count": 114,
     "metadata": {},
     "output_type": "execute_result"
    }
   ],
   "source": [
    "order_columns(a)"
   ]
  },
  {
   "cell_type": "markdown",
   "id": "1772abe8",
   "metadata": {},
   "source": [
    "## Exercise 8\n",
    "\n",
    "* Write the function first_smaller(a, n) which takes as its argument a 1-dimensional numpy array $a$ and a number $n$ and returns the first entry of $a$ which is smaller than $n$. If such entry does not exist the function should return None."
   ]
  },
  {
   "cell_type": "markdown",
   "id": "0b036a33",
   "metadata": {},
   "source": [
    "### Answer for # 8"
   ]
  },
  {
   "cell_type": "code",
   "execution_count": 115,
   "id": "e1d8a0b7",
   "metadata": {},
   "outputs": [],
   "source": [
    "def first_smaller(a,n):\n",
    "    try: \n",
    "        return a[a<n][0]\n",
    "    except:\n",
    "        return None"
   ]
  },
  {
   "cell_type": "code",
   "execution_count": 116,
   "id": "0e9171e7",
   "metadata": {},
   "outputs": [
    {
     "data": {
      "text/plain": [
       "array([85, 63, 51, 26, 30,  4,  7,  1, 17, 81])"
      ]
     },
     "execution_count": 116,
     "metadata": {},
     "output_type": "execute_result"
    }
   ],
   "source": [
    "rng = np.random.default_rng(0) # initialize the random number generator\n",
    "a = rng.integers(0, 100, 10) # array of 10 random integers 0 <= n < 100\n",
    "a"
   ]
  },
  {
   "cell_type": "markdown",
   "id": "abfeeb84",
   "metadata": {},
   "source": [
    "### Test for # 8"
   ]
  },
  {
   "cell_type": "code",
   "execution_count": 117,
   "id": "b6c0112c",
   "metadata": {},
   "outputs": [],
   "source": [
    "# None situation\n",
    "first_smaller(a,1)"
   ]
  },
  {
   "cell_type": "code",
   "execution_count": 118,
   "id": "486dff35",
   "metadata": {},
   "outputs": [
    {
     "data": {
      "text/plain": [
       "26"
      ]
     },
     "execution_count": 118,
     "metadata": {},
     "output_type": "execute_result"
    }
   ],
   "source": [
    "# Not None situtation\n",
    "first_smaller(a,50)"
   ]
  },
  {
   "cell_type": "code",
   "execution_count": null,
   "id": "ad444cbe",
   "metadata": {},
   "outputs": [],
   "source": []
  }
 ],
 "metadata": {
  "author": "mes n",
  "kernelspec": {
   "display_name": "Python 3 (ipykernel)",
   "language": "python",
   "name": "python3"
  },
  "language_info": {
   "codemirror_mode": {
    "name": "ipython",
    "version": 3
   },
   "file_extension": ".py",
   "mimetype": "text/x-python",
   "name": "python",
   "nbconvert_exporter": "python",
   "pygments_lexer": "ipython3",
   "version": "3.9.13"
  },
  "latex_envs": {
   "LaTeX_envs_menu_present": true,
   "autocomplete": true,
   "bibliofile": "biblio.bib",
   "cite_by": "apalike",
   "current_citInitial": 1,
   "eqLabelWithNumbers": true,
   "eqNumInitial": 1,
   "hotkeys": {
    "equation": "Ctrl-E",
    "itemize": "Ctrl-I"
   },
   "labels_anchors": false,
   "latex_user_defs": false,
   "report_style_numbering": false,
   "user_envs_cfg": false
  }
 },
 "nbformat": 4,
 "nbformat_minor": 5
}
